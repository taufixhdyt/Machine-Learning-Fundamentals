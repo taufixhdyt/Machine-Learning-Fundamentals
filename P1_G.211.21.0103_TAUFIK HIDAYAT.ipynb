# Creating Test DataSets using
from sklearn.datasets import make_blobs
from matplotlib import pyplot as plt
from matplotlib import style
style.use("fivethirtyeight")
X, y = make_blobs(n_samples = 100, centers = 3,
cluster_std = 1, n_features = 2)
plt.scatter(X[:, 0], X[:, 1], s = 40, color = 'g')
plt.xlabel("X")
plt.ylabel("Y")
plt.show()
plt.clf()

# Creating Test DataSets using
from sklearn.datasets import make_moons
from matplotlib import pyplot as plt
from matplotlib import style
X, y = make_moons(n_samples = 1000,
noise = 0.1)
plt.scatter(X[:, 0], X[:, 1], s =
40, color ='g')
plt.xlabel("X")
plt.ylabel("Y")
plt.show()
plt.clf()

# Creating Test DataSets using
from sklearn.datasets import make_circles
from matplotlib import pyplot as plt
from matplotlib import style
style.use("fivethirtyeight")
X, y = make_circles(n_samples = 100,
noise = 0.02)
plt.scatter(X[:, 0], X[:, 1], s = 40,
color ='g')
plt.xlabel("X")
plt.ylabel("Y")
plt.show()
plt.clf()

#import the necessary libraries
from sklearn.datasets import make_blobs
import matplotlib.pyplot as plt
# Generate 2d classification dataset
X, y = make_blobs(n_samples=500, centers=3,
n_features=2, random_state=23)
# Plot the generated datasets
plt.scatter(X[:, 0], X[:, 1], c=y)
plt.show()

# Import necessary libraries
from sklearn.datasets import make_multilabel_classification
import pandas as pd
import matplotlib.pyplot as plt
# Generate 2d classification dataset
X, y = make_multilabel_classification(n_samples=500, n_features=2,
n_classes=2, n_labels=2,
allow_unlabeled=True,
random_state=23)
# create pandas dataframe from generated dataset
df = pd.concat([pd.DataFrame(X, columns=['X1', 'X2']),
pd.DataFrame(y, columns=['Label1', 'Label2'])],
axis=1)
display(df.head())
# Plot the generated datasets
plt.scatter(df['X1'], df['X2'], c=df['Label1'])
plt.show()

# Import necessary libraries
from sklearn.datasets import make_sparse_uncorrelated
import matplotlib.pyplot as plt
# Generate 1d Regression dataset
X, y = make_sparse_uncorrelated(n_samples = 100, n_features=4, random_state=23)
# Plot the generated datasets
plt.figure(figsize=(12,10))
for i in range(4):
  plt.subplot(2,2, i+1)
  plt.scatter(X[:,i], y)
  plt.xlabel('X'+str(i+1))
  plt.ylabel('Y')
plt.show()
